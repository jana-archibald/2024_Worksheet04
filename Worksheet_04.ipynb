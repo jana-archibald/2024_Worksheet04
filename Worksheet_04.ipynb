{
 "cells": [
  {
   "cell_type": "markdown",
   "metadata": {
    "editable": false
   },
   "source": [
    "# Worksheet 4: Exploring Categorical Data #\n"
   ]
  },
  {
   "cell_type": "markdown",
   "metadata": {
    "editable": false
   },
   "source": [
    "## Objectives: ##\n",
    "To become familiar with the tools used to display categorical data\n",
    "* contigency tables\n",
    "* relative frequency tables\n",
    "* mosaic plots\n",
    "* bar plots"
   ]
  },
  {
   "cell_type": "markdown",
   "metadata": {
    "editable": false
   },
   "source": [
    "## Instructions: ##\n",
    "* 1. Run the command under the tools heading to download the data\n",
    "* 2. Read each question carefully\n",
    "* 3. Answer the questions. \n",
    "\n",
    "Remember: You can look up new commands in the *R commands we know ... so far* document on moodle."
   ]
  },
  {
   "cell_type": "markdown",
   "metadata": {
    "editable": false
   },
   "source": [
    "## Formulae: ##\n",
    "No formlae are required for this tutorial."
   ]
  },
  {
   "cell_type": "markdown",
   "metadata": {
    "editable": false
   },
   "source": [
    "## Tools: ##"
   ]
  },
  {
   "cell_type": "code",
   "execution_count": 1,
   "metadata": {
    "editable": false
   },
   "outputs": [],
   "source": [
    "load(\"cdc.Rda\")"
   ]
  },
  {
   "cell_type": "markdown",
   "metadata": {},
   "source": [
    "## Data Information: ##\n",
    "\n",
    "### Data Set 1: ###\n",
    "Today we will be using data from the CDC.  \n",
    "\n",
    "The Behavioral Risk Factor Surveillance System (BRFSS) is an annual telephone survey of 350,000 people in the United States. As its name implies, the BRFSS is designed to identify risk factors in the adult population and report emerging health trends. For example, respondents are asked about their diet and weekly physical activity, their HIV/AIDS status, possible tobacco use, and even their level of healthcare coverage. The BRFSS Web site (http://www.cdc.gov/brfss) contains a complete description of the survey, including the research questions that motivate the study and many interesting results derived from the data.\n",
    "\n",
    "While there are over **200** variables in this data set, we will work with a small subset.\n",
    "#### Name: #### \n",
    "* `cdc` - health data from the sample of the BRFSS survey from 2000.\n",
    "\n",
    "#### Variables: ####\n",
    "* `genhlth` - respondents were asked to evaluate their general health, responding either excellent, very good, good, fair or poor\n",
    "* `exerany` - whether the respondent exercised in the past month (recent) or did not (not_recent).\n",
    "* `hlthplan` - whether the respondent had some form of health coverage (insured) or did not (uninsured).\n",
    "* `smoke100` - whether the respondent had smoked at least 100 cigarettes in her lifetime (smoker) or has not (nonsmoker).\n",
    "* `height` - the respondent's height measured in inches.\n",
    "* `weight` - the respondent's weight measured in pounds.\n",
    "* `wtdesire` - the respondent's desired weight measured in pounds.\n",
    "* `age` - the respondent's age measured in years.\n",
    "* `gender` - whether the respondent said they were female or male.\n"
   ]
  },
  {
   "cell_type": "markdown",
   "metadata": {
    "editable": false
   },
   "source": [
    "## Question 1. Making Tables ##"
   ]
  },
  {
   "cell_type": "markdown",
   "metadata": {
    "editable": false
   },
   "source": [
    "### We can make tables for two categorical variables in several ways ###\n",
    "* `table(` &lt;variable&gt; `,` &lt;variable&gt; `)` - creates a contingency table, each entry is the number of data points that have the indicated variable values\n",
    "* `prop.table(table(`  &lt;variable&gt; `,` &lt;variable&gt; `)` - creates a relative frequency table, each entry is the fraction of all the data that have the indicated variable values\n",
    "* `prop.table(table(`  &lt;variable&gt; `,` &lt;variable&gt; `,1)` - creates a relative frequency table split by the row variable, each entry is the fraction of the data in that row that has the variable value indicated by the column. Hence the sum of each row is 1.\n",
    "* `prop.table(table(`  &lt;variable&gt; `,` &lt;variable&gt; `,2)` - creates a relative frequency table split by the column variable, each entry is the fraction of the data in that column that has the variable value indicated by the row. Hence the sum of each column is 1.\n",
    "### Use the information above to answer these questions: ###\n",
    "* a. Create a contigency table for general health and exercise habits.<br>How many people say they are in good health and indicated that they have exercised recently?\n",
    "* b. Create a relative frequency table for general health and exercise habits.<br>What fraction of all people say they are in good health and indicated that they have exercised recently?\n",
    "* c. Create a relative frequency table for general health split by exercise habits.<br>What fraction of the good health people indicated that they exercised recently?\n",
    "* d. Create a relative frequency table for exercise habits split by general health.<br>What fraction of the recent exercisers say they are in good health?"
   ]
  },
  {
   "cell_type": "markdown",
   "metadata": {
    "editable": false
   },
   "source": [
    "### Answer 1a. ##"
   ]
  },
  {
   "cell_type": "code",
   "execution_count": 5,
   "metadata": {},
   "outputs": [
    {
     "data": {
      "text/plain": [
       ", ,  = f\n",
       "\n",
       "           \n",
       "            not_recent recent\n",
       "  excellent          8     16\n",
       "  very good         10     28\n",
       "  good               9     17\n",
       "  fair               5      9\n",
       "  poor               2      1\n",
       "\n",
       ", ,  = m\n",
       "\n",
       "           \n",
       "            not_recent recent\n",
       "  excellent          2     22\n",
       "  very good          8     28\n",
       "  good               8     18\n",
       "  fair               2      7\n",
       "  poor               1      0\n"
      ]
     },
     "metadata": {},
     "output_type": "display_data"
    }
   ],
   "source": [
    "table(cdc$genhlth,cdc$exerany,cdc$gender)"
   ]
  },
  {
   "cell_type": "markdown",
   "metadata": {},
   "source": [
    "Type your answer for 1 a here"
   ]
  },
  {
   "cell_type": "markdown",
   "metadata": {
    "editable": false
   },
   "source": [
    "### Answer 1b. ##"
   ]
  },
  {
   "cell_type": "code",
   "execution_count": null,
   "metadata": {},
   "outputs": [],
   "source": []
  },
  {
   "cell_type": "markdown",
   "metadata": {},
   "source": [
    "Type your answer for 1b here"
   ]
  },
  {
   "cell_type": "markdown",
   "metadata": {
    "editable": false
   },
   "source": [
    "### Answer 1c. ###"
   ]
  },
  {
   "cell_type": "code",
   "execution_count": null,
   "metadata": {},
   "outputs": [],
   "source": []
  },
  {
   "cell_type": "markdown",
   "metadata": {},
   "source": [
    "Type your answer for 1 c here"
   ]
  },
  {
   "cell_type": "markdown",
   "metadata": {
    "editable": false
   },
   "source": [
    "### Answer 1d. ##"
   ]
  },
  {
   "cell_type": "code",
   "execution_count": null,
   "metadata": {},
   "outputs": [],
   "source": []
  },
  {
   "cell_type": "markdown",
   "metadata": {},
   "source": [
    "Type your answer for 1 d here"
   ]
  },
  {
   "cell_type": "markdown",
   "metadata": {
    "editable": false
   },
   "source": [
    "## Question 2. Barplots ##"
   ]
  },
  {
   "cell_type": "markdown",
   "metadata": {
    "editable": false
   },
   "source": [
    "### We make barplots using tables: ###\n",
    "`barplot(` `table(`  &lt;variable&gt; `,` &lt;variable&gt;  `)` `, legend=T, ` &lt;options - see list below&gt;`)`<br>Options appear in a comma delimited list: \n",
    "* `legend=c(\"` first variable first value `\",\"` first variable second value`\"` ... `)` - to replace the default legend, if you include this don't type legend=T. \n",
    "* `names.arg=c(\"` second variable first value `\",\"` second variable second value `\"` ... `)` - to relabel the x axis labels if they are not desirable.\n",
    "* `beside = TRUE` - to place the bars side-by-side rather than having stacked bars.\n",
    "* `main = \"` title `\"` - to put a title above the barplot\n",
    "Note: the values of the bars will be in the same order as the values are listed in the table.\n",
    "\n",
    "Run the codes below to see barplots for `genhlth` split by `hlthplan`"
   ]
  },
  {
   "cell_type": "code",
   "execution_count": 6,
   "metadata": {
    "editable": false
   },
   "outputs": [
    {
     "data": {
      "image/png": "[encoded data removed]",
      "text/plain": [
       "plot without title"
      ]
     },
     "metadata": {
      "image/png": {
       "height": 420,
       "width": 420
      }
     },
     "output_type": "display_data"
    }
   ],
   "source": [
    "barplot(table(cdc$genhlth,cdc$hlthplan),legend=T,beside=T)"
   ]
  },
  {
   "cell_type": "code",
   "execution_count": 7,
   "metadata": {
    "editable": false
   },
   "outputs": [
    {
     "data": {
      "image/png": "[encoded data removed]",
      "text/plain": [
       "Plot with title “Summary of CDC data general health rating split by insured vs uninsured.”"
      ]
     },
     "metadata": {
      "image/png": {
       "height": 420,
       "width": 420
      }
     },
     "output_type": "display_data"
    }
   ],
   "source": [
    "barplot(table(cdc$genhlth,cdc$hlthplan),beside=T,\n",
    "       main=\"Summary of CDC data general health rating split by insured vs uninsured.\",\n",
    "       ylab=\"Frequency\", names.arg=c(\"Insured\", \"Uninsured\"),legend=c(\"Excellent\", \"Very Good\",\"Good\",\"Fair\",\"Poor\"))"
   ]
  },
  {
   "cell_type": "markdown",
   "metadata": {
    "editable": false
   },
   "source": [
    "Answer the following questions by creating and/or interpreting barplots.  For each of the barplots, first make one using the default options, and then another with the reqested titles and labels.\n",
    "* a. Make a titled stacked bar chart showing the frequency of  exercise habits split by gender. Change the labels on the *x*-axis to \"No Recent Exercise\" and \"Recent Exercise\" and provide a legend.\n",
    "* b. Make a titled bar chart, with the bars side by side, of gender split by exercise habits. Change the labels on the *x*-axis to \"Female\" and \"Male\" and provide a legend.\n",
    "* c. Is there a relationship between gender and exercise habits? Briefly, explain how the barchart leads you to that conclusion."
   ]
  },
  {
   "cell_type": "markdown",
   "metadata": {
    "editable": false
   },
   "source": [
    "### Answer 2a. ###"
   ]
  },
  {
   "cell_type": "code",
   "execution_count": null,
   "metadata": {},
   "outputs": [],
   "source": []
  },
  {
   "cell_type": "code",
   "execution_count": null,
   "metadata": {},
   "outputs": [],
   "source": []
  },
  {
   "cell_type": "markdown",
   "metadata": {
    "editable": false
   },
   "source": [
    "### Answer 2b. ###"
   ]
  },
  {
   "cell_type": "code",
   "execution_count": null,
   "metadata": {},
   "outputs": [],
   "source": []
  },
  {
   "cell_type": "code",
   "execution_count": null,
   "metadata": {},
   "outputs": [],
   "source": []
  },
  {
   "cell_type": "markdown",
   "metadata": {
    "editable": false
   },
   "source": [
    "### Answer 2c. ###"
   ]
  },
  {
   "cell_type": "markdown",
   "metadata": {},
   "source": [
    "Answer question 2 c here."
   ]
  },
  {
   "cell_type": "markdown",
   "metadata": {
    "editable": false
   },
   "source": [
    "## Question 3. Mosaic plots ##"
   ]
  },
  {
   "cell_type": "markdown",
   "metadata": {
    "editable": false
   },
   "source": [
    "We make mosaic plots using similar code as side by side boxplots\n",
    "`mosaicplot(` &lt;variable&gt; `~` &lt;variable&gt; `, data = <dataset>,  ` &lt;options - see list below&gt; `)`<br>\n",
    "Options appear in a comma delimited list:\n",
    "* `main=\"` title `\"` - to create a title. \n",
    "* `xlab=\"` x label `\"` - to create a x-axis or horizontal label. \n",
    "* `ylab=\"` y label `\"` - to create a y-axis vertical label. \n",
    "* `color = TRUE` - to make rectangles from the different variables different shades of gray.\n",
    "\n",
    "\n",
    "Your tutorial instructor will show you how to make a mosaic plot for the variables `smoke100` and `exerany`"
   ]
  },
  {
   "cell_type": "code",
   "execution_count": null,
   "metadata": {},
   "outputs": [],
   "source": []
  },
  {
   "cell_type": "code",
   "execution_count": null,
   "metadata": {},
   "outputs": [],
   "source": []
  },
  {
   "cell_type": "markdown",
   "metadata": {
    "editable": false
   },
   "source": [
    "Answer the following questions by creating and/or interpreting mosaic plots\n",
    "* a. Make a titled mosaic chart of gender split by general health. Label both axis.\n",
    "* b. Make a titled mosaic chart of general health split by gender. Label both axis.\n",
    "* c. Run the code cell under Answer 3c. Which table displays the values that corresponds to the mosaic plots in parts 3a and 3b?<br>Briefly explain how you determined which chart and tables correspond."
   ]
  },
  {
   "cell_type": "markdown",
   "metadata": {
    "editable": false
   },
   "source": [
    "### Answer 3a. ###"
   ]
  },
  {
   "cell_type": "code",
   "execution_count": 3,
   "metadata": {},
   "outputs": [
    {
     "data": {
      "image/png": "[encoded data removed]",
      "text/plain": [
       "Plot with title “cdc”"
      ]
     },
     "metadata": {
      "image/png": {
       "height": 420,
       "width": 420
      }
     },
     "output_type": "display_data"
    }
   ],
   "source": [
    "mosaicplot(genhlth~gender,data=cdc,color=T)"
   ]
  },
  {
   "cell_type": "markdown",
   "metadata": {
    "editable": false
   },
   "source": [
    "### Answer 3b. ###"
   ]
  },
  {
   "cell_type": "code",
   "execution_count": 5,
   "metadata": {},
   "outputs": [
    {
     "data": {
      "image/png": "[encoded data removed]",
      "text/plain": [
       "Plot with title “cdc”"
      ]
     },
     "metadata": {
      "image/png": {
       "height": 420,
       "width": 420
      }
     },
     "output_type": "display_data"
    }
   ],
   "source": [
    "mosaicplot(gender~genhlth,data=cdc,color=T)"
   ]
  },
  {
   "cell_type": "markdown",
   "metadata": {
    "editable": false
   },
   "source": [
    "### Answer 3c. ###"
   ]
  },
  {
   "cell_type": "code",
   "execution_count": 6,
   "metadata": {
    "editable": false
   },
   "outputs": [
    {
     "data": {
      "text/plain": [
       "           \n",
       "                      f           m\n",
       "  excellent 0.119402985 0.119402985\n",
       "  very good 0.189054726 0.179104478\n",
       "  good      0.129353234 0.129353234\n",
       "  fair      0.069651741 0.044776119\n",
       "  poor      0.014925373 0.004975124"
      ]
     },
     "metadata": {},
     "output_type": "display_data"
    },
    {
     "data": {
      "text/plain": [
       "           \n",
       "                    f         m\n",
       "  excellent 0.5000000 0.5000000\n",
       "  very good 0.5135135 0.4864865\n",
       "  good      0.5000000 0.5000000\n",
       "  fair      0.6086957 0.3913043\n",
       "  poor      0.7500000 0.2500000"
      ]
     },
     "metadata": {},
     "output_type": "display_data"
    },
    {
     "data": {
      "text/plain": [
       "           \n",
       "                     f          m\n",
       "  excellent 0.22857143 0.25000000\n",
       "  very good 0.36190476 0.37500000\n",
       "  good      0.24761905 0.27083333\n",
       "  fair      0.13333333 0.09375000\n",
       "  poor      0.02857143 0.01041667"
      ]
     },
     "metadata": {},
     "output_type": "display_data"
    }
   ],
   "source": [
    "table1 <- prop.table(table(cdc$genhlth,cdc$gender))\n",
    "table2 <- prop.table(table(cdc$genhlth,cdc$gender),1)\n",
    "table3 <- prop.table(table(cdc$genhlth,cdc$gender),2)\n",
    "table1\n",
    "table2\n",
    "table3"
   ]
  },
  {
   "cell_type": "code",
   "execution_count": 14,
   "metadata": {},
   "outputs": [
    {
     "data": {
      "text/plain": [
       "           \n",
       "                    f         m\n",
       "  excellent 0.5000000 0.5000000\n",
       "  very good 0.5135135 0.4864865\n",
       "  good      0.5000000 0.5000000\n",
       "  fair      0.6086957 0.3913043\n",
       "  poor      0.7500000 0.2500000"
      ]
     },
     "metadata": {},
     "output_type": "display_data"
    },
    {
     "data": {
      "image/png": "[encoded data removed]",
      "text/plain": [
       "Plot with title “cdc”"
      ]
     },
     "metadata": {
      "image/png": {
       "height": 420,
       "width": 420
      }
     },
     "output_type": "display_data"
    }
   ],
   "source": [
    "prop.table(table(cdc$genhlth,cdc$gender),1)\n",
    "mosaicplot(genhlth~gender,data=cdc,color=T)"
   ]
  },
  {
   "cell_type": "code",
   "execution_count": 15,
   "metadata": {},
   "outputs": [
    {
     "data": {
      "text/plain": [
       "           \n",
       "                     f          m\n",
       "  excellent 0.22857143 0.25000000\n",
       "  very good 0.36190476 0.37500000\n",
       "  good      0.24761905 0.27083333\n",
       "  fair      0.13333333 0.09375000\n",
       "  poor      0.02857143 0.01041667"
      ]
     },
     "metadata": {},
     "output_type": "display_data"
    },
    {
     "data": {
      "image/png": "[encoded data removed]",
      "text/plain": [
       "Plot with title “cdc”"
      ]
     },
     "metadata": {
      "image/png": {
       "height": 420,
       "width": 420
      }
     },
     "output_type": "display_data"
    }
   ],
   "source": [
    " prop.table(table(cdc$genhlth,cdc$gender),2)\n",
    "\n",
    "mosaicplot(gender~genhlth,data=cdc,color=T)"
   ]
  },
  {
   "cell_type": "markdown",
   "metadata": {},
   "source": [
    "Type your answer for 3 c here"
   ]
  },
  {
   "cell_type": "markdown",
   "metadata": {
    "editable": false
   },
   "source": [
    "---\n",
    "---\n",
    "#### This tutorial is released under a Creative Commons Attribution-ShareAlike 3.0 Unported.\n",
    "\n",
    "This tutorial has been adapted from a lab that  was adapted for OpenIntro by Andrew Bray and Mine Çetinkaya-Rundel from a lab written by Mark Hansen of UCLA Statistics.\n",
    "\n",
    "---\n",
    "---"
   ]
  }
 ],
 "metadata": {
  "kernelspec": {
   "display_name": "R",
   "language": "R",
   "name": "ir"
  },
  "language_info": {
   "codemirror_mode": "r",
   "file_extension": ".r",
   "mimetype": "text/x-r-source",
   "name": "R",
   "pygments_lexer": "r",
   "version": "4.3.0"
  }
 },
 "nbformat": 4,
 "nbformat_minor": 4
}
